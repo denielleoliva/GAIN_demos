{
 "cells": [
  {
   "cell_type": "markdown",
   "id": "abd4fd7d",
   "metadata": {},
   "source": [
    "# Python primer II, GAIN Summer 2021, day 3. \n",
    "\n",
    "## Topics to cover\n",
    "- lists\n",
    "- conditional statements: `if`, `else`, and `elif`\n",
    "- `for` loops\n",
    "- working with files (input/output)\n",
    "- introduction to libraries (`import`, `sys`)\n",
    "\n",
    "## Helpful materials:\n",
    "- Haddock and Dunn chapter 9 and Chapter 10 pdfs (Haddock_Dunn_Chap10.pdf\n",
    "Haddock_Dunn_Chap9.pdf)\n",
    "- [Python for biologists](https://pythonforbiologists.com/introduction) tutorial sections:\n",
    "\n",
    "  - [printing and manipulating text](https://pythonforbiologists.com/printing-and-manipulating-text)\n",
    "  - [lists and loops](https://pythonforbiologists.com/lists-and-loops)\n",
    "  - [working with files](https://pythonforbiologists.com/working-with-files)\n",
    "<p>&nbsp;</p>\n",
    "\n",
    "# 1. Lists\n",
    "Lists store vectors of information, and you will commonly use them. The are convenient because they can be used with loops to execute the same blocks of code on each element.\n",
    "\n",
    "Hardcoding lists within your scripts is good for learning, although once you start working with real data you will learn to build lists quickly on the fly. To build lists, we enclose the set in brackets. The contents of a list can be a mixture of data types, although you will usually work with lists of only one type (strings, integers, floats)\n"
   ]
  },
  {
   "cell_type": "code",
   "execution_count": 2,
   "id": "5b2b61e2",
   "metadata": {},
   "outputs": [],
   "source": [
    "NameList = ['Jim', 'Bob', 'Amy', 'Beth']    # list of strings\n",
    "NumList = [9, 28, 18, 83, 85]   # list of integers"
   ]
  },
  {
   "cell_type": "markdown",
   "id": "43b55ca4",
   "metadata": {},
   "source": [
    "List elements are accessed by their indices, 0 coming before the first list element. Rather than thinking of each element as matching its index, think of the indeces as representing the boundaries between elements. (see page 159 of Haddock and Dunn for explanation)"
   ]
  },
  {
   "cell_type": "code",
   "execution_count": 3,
   "id": "35240a12",
   "metadata": {},
   "outputs": [
    {
     "name": "stdout",
     "output_type": "stream",
     "text": [
      "e\n",
      "('c', 'd')\n"
     ]
    }
   ],
   "source": [
    "List=('a', 'b', 'c', 'd', 'e')\n",
    "print(List[-1])  # will print e\n",
    "print(List[-3:-1])  # will print ('c', 'd') "
   ]
  },
  {
   "cell_type": "markdown",
   "id": "bfe3c10d",
   "metadata": {},
   "source": [
    "Specifying ranges of elements is done using `:`, with indices corresponding to boundaries between elements (see page 159 of Haddock and Dunn for explanation)."
   ]
  },
  {
   "cell_type": "code",
   "execution_count": null,
   "id": "e37407d6",
   "metadata": {},
   "outputs": [],
   "source": [
    "print(List[0:3])  # will print ('a', 'b', 'c')\n",
    "print(List[1:4]) # will print ('b', 'c', 'd')\n",
    "print(List[-3:]) # will print ('c', 'd', 'e')"
   ]
  },
  {
   "cell_type": "markdown",
   "id": "2158f198",
   "metadata": {},
   "source": [
    "Note, that information from strings can be similarly extracted. One difference is that you can not modify a portion of a string, but you can modify portions of a list.\n",
    "\n"
   ]
  },
  {
   "cell_type": "code",
   "execution_count": null,
   "id": "a96fbe62",
   "metadata": {},
   "outputs": [],
   "source": [
    "Names = \"TomJoshTrevor\"\n",
    "print(Names[0:3]) # prints 'Tom'\n",
    "print(Names[7:]) # prints 'Trevor'"
   ]
  },
  {
   "cell_type": "markdown",
   "id": "c570a744",
   "metadata": {},
   "source": [
    "## Useful functions for working with lists:\n",
    "\n",
    "`list()` translates a string into a list. This is useful because lists are easy to iterate through, e.g., by using `for`"
   ]
  },
  {
   "cell_type": "code",
   "execution_count": null,
   "id": "2652e6c5",
   "metadata": {},
   "outputs": [],
   "source": [
    "NumString=\"1234533324555434343\"\n",
    "NumList=list(NumString)    "
   ]
  },
  {
   "cell_type": "markdown",
   "id": "2077fafb",
   "metadata": {},
   "source": [
    "`.split` splits a string by specified delimiters. This is common when you have a line of data (tab or comma delimited) and you want to make that line into a list that can be worked wiht efficiently."
   ]
  },
  {
   "cell_type": "code",
   "execution_count": 4,
   "id": "9c0db016",
   "metadata": {},
   "outputs": [],
   "source": [
    "Temp=\"65,76,77,77,65,67,65,45,45,90,91,91\"\n",
    "List_Temp= Temp.split(\",\")"
   ]
  },
  {
   "cell_type": "markdown",
   "id": "e4494fe1",
   "metadata": {},
   "source": [
    "`.join()` \"joins\" elements of a list into a string. Delimiter, if used, is supplied before `.join`\n"
   ]
  },
  {
   "cell_type": "code",
   "execution_count": 5,
   "id": "3afbe970",
   "metadata": {},
   "outputs": [],
   "source": [
    "Bases=['A', 'G', 'G', 'C', 'TTT', 'ATC']\n",
    "''.join(Bases) # no delimiter, creates 'AGGCTTTATC'\n",
    "','.join(Bases) # comma delimiter, creates 'A,G,G,C,TTT,ATC'\n",
    "String=','.join(Bases[0:4]) # comma delimiter, sends to variable String"
   ]
  },
  {
   "cell_type": "markdown",
   "id": "d6b0d7dd",
   "metadata": {},
   "source": [
    "Note that strings and lists store information in a similar manner (See Haddock and Dunn pg 164)\n",
    "\n",
    "`range()` generates lists of integers based on starting, ending, and interval values. The simplist use is to make a list of integers with specified start and stop points. Notice that the list will end ONE integer before the stop point.\n"
   ]
  },
  {
   "cell_type": "code",
   "execution_count": 6,
   "id": "7beaa06a",
   "metadata": {},
   "outputs": [
    {
     "name": "stdout",
     "output_type": "stream",
     "text": [
      "[0, 1, 2, 3, 4, 5, 6, 7, 8]\n"
     ]
    }
   ],
   "source": [
    "RanList = list(range(0,9))   \n",
    "print(RanList) # [0, 1, 2, 3, 4, 5, 6, 7, 8]"
   ]
  },
  {
   "cell_type": "markdown",
   "id": "9e1173b3",
   "metadata": {},
   "source": [
    ".append()` used to add elements to the end of an list\n"
   ]
  },
  {
   "cell_type": "code",
   "execution_count": 7,
   "id": "980b8b5c",
   "metadata": {},
   "outputs": [],
   "source": [
    "Breeds=['labrador', 'golden', 'flatcoat', 'chesapeake']\n",
    "Breeds.append('curlycoat') #adds 'curlycoat')"
   ]
  },
  {
   "cell_type": "markdown",
   "id": "de6be18c",
   "metadata": {},
   "source": [
    "Joining two lists together is very simple, just use `+`"
   ]
  },
  {
   "cell_type": "code",
   "execution_count": 11,
   "id": "80dac634",
   "metadata": {},
   "outputs": [
    {
     "name": "stdout",
     "output_type": "stream",
     "text": [
      "['a', 'b', 'c', 1, 2, 3]\n"
     ]
    }
   ],
   "source": [
    "List1 = [\"a\", \"b\" , \"c\"]\n",
    "List2 = [1, 2, 3]\n",
    "List3 = List1 + List2\n",
    "print(List3)"
   ]
  },
  {
   "cell_type": "markdown",
   "id": "8430520a",
   "metadata": {},
   "source": [
    "`del()` removes any specified elements from a list"
   ]
  },
  {
   "cell_type": "code",
   "execution_count": 12,
   "id": "15781d40",
   "metadata": {},
   "outputs": [],
   "source": [
    "del(Breeds[:2]) #removes the first two elements"
   ]
  },
  {
   "cell_type": "markdown",
   "id": "2d1a2b31",
   "metadata": {},
   "source": [
    "`.reverse()` reverses a list. **Note, this function doesn't return a value, it just reverses the existing list.**\n"
   ]
  },
  {
   "cell_type": "code",
   "execution_count": 13,
   "id": "4de3a6dd",
   "metadata": {},
   "outputs": [
    {
     "name": "stdout",
     "output_type": "stream",
     "text": [
      "['T', 'T', 'T', 'G', 'G', 'A']\n"
     ]
    }
   ],
   "source": [
    "Bases=['A', 'G', 'G', 'T', 'T', 'T']\n",
    "Bases.reverse()\n",
    "print(Bases) # ['T', 'T', 'T', 'G', 'G', 'A']"
   ]
  },
  {
   "cell_type": "markdown",
   "id": "9e45bced",
   "metadata": {},
   "source": [
    "Reversing strings is a bit less straight forward. The text below looks funny, but it does the job of reversing the string Seq. You might learn more about the meaning of the syntax later if you learn about 'slicing'.\n",
    "<p>&nbsp;</p>\n",
    "\n",
    "| Operators | Meaning |\n",
    "|---------- | ---------- |\n",
    "|==  | Equal To |\n",
    "|>   | Greater Than |\n",
    "|>=  | Greater Than or Equal To |\n",
    "|<   | Less Than |\n",
    "|<=  | Less Than or Equal To |\n",
    "|!=  | Not Equal |\n",
    "<p>&nbsp;</p>\n",
    "\n",
    "Logical operators, as listed below are also useful in conditional statements.\n",
    "\n",
    "| Operator | True if |\n",
    "|---------- | ---------- |\n",
    "|and  | Equal To |\n",
    "|or  | Greater Than |\n",
    "|not  | Greater Than or Equal To |\n",
    "|(not A) or B | Less Than |\n",
    "|not (A or B)| Less Than or Equal To |\n",
    "<p>&nbsp;</p>\n",
    "\n",
    "### `if` is used prior to a condition being stated, and code under `if` must be indented:\n"
   ]
  },
  {
   "cell_type": "code",
   "execution_count": 14,
   "id": "294e999c",
   "metadata": {},
   "outputs": [
    {
     "name": "stdout",
     "output_type": "stream",
     "text": [
      "4 is greater than 3\n"
     ]
    }
   ],
   "source": [
    "X = 4\n",
    "if (X > 3):\n",
    "    print(\"%d is greater than 3\" % (X))"
   ]
  },
  {
   "cell_type": "markdown",
   "id": "83a607e7",
   "metadata": {},
   "source": [
    "### `elif` is used when multiple conditions follow the initial `if`"
   ]
  },
  {
   "cell_type": "code",
   "execution_count": 15,
   "id": "0461feeb",
   "metadata": {},
   "outputs": [
    {
     "name": "stdout",
     "output_type": "stream",
     "text": [
      "3 equals 3\n"
     ]
    }
   ],
   "source": [
    "Y = 3\n",
    "if (Y > 3):\n",
    "    print(\"%d is greater than 3\" % (Y))\n",
    "elif (Y == 3):\n",
    "    print(\"%d equals 3\" % (Y))\n",
    "else:\n",
    "    print(\"%d is less than 3\" % (Y))"
   ]
  },
  {
   "cell_type": "markdown",
   "id": "2ad78622",
   "metadata": {},
   "source": [
    "# 3. `for`\n",
    "\n",
    "### `for` can be used with lists, dictionaries, and even strings at some points. Unlike the conditional statements above, `for` is used to loop (or iterate) through a data structure, executing the same block of code on each item. Python uses indentation in an inflexible manner (other languages often use curly brackets with indentation optional) to set apart code inside `for` loops. **Once a loop is initiated, the code within the loop must be indented.** A common error in your python code will come from incorrect indentation. \n",
    "<p>&nbsp;</p>\n",
    "\n",
    "### Below is an example of using `for` to loop through a string. The code below should print each base in the DNA string on its own line of output."
   ]
  },
  {
   "cell_type": "code",
   "execution_count": 16,
   "id": "f07d8b3d",
   "metadata": {},
   "outputs": [
    {
     "name": "stdout",
     "output_type": "stream",
     "text": [
      "A\n",
      "T\n",
      "C\n",
      "G\n",
      "G\n",
      "G\n",
      "A\n",
      "A\n",
      "A\n",
      "C\n",
      "C\n"
     ]
    }
   ],
   "source": [
    "DNA = \"ATCGGGAAACC\"\n",
    "for Seq in DNA: \n",
    "    print(Seq)"
   ]
  },
  {
   "cell_type": "markdown",
   "id": "1e73e993",
   "metadata": {},
   "source": [
    "### You will often use `for` to loop through lists. The syntax is similar to above. Lets make a list of numbers and loop through it."
   ]
  },
  {
   "cell_type": "code",
   "execution_count": 17,
   "id": "cd1a3e23",
   "metadata": {},
   "outputs": [
    {
     "name": "stdout",
     "output_type": "stream",
     "text": [
      "multiple of 10:  0\n",
      "multiple of 10:  10\n",
      "multiple of 10:  20\n",
      "multiple of 10:  30\n",
      "multiple of 10:  40\n",
      "multiple of 10:  50\n",
      "multiple of 10:  60\n",
      "multiple of 10:  70\n",
      "multiple of 10:  80\n",
      "multiple of 10:  90\n"
     ]
    }
   ],
   "source": [
    "RanList = list(range(0,100))   \n",
    "for Num in RanList:\n",
    "    if Num%10==0:\n",
    "        print (\"multiple of 10: \", Num)"
   ]
  },
  {
   "cell_type": "markdown",
   "id": "8229bb66",
   "metadata": {},
   "source": [
    "Notice above we are doing three things. \n",
    "- First, we are making a list of integers from 0 through 100. \n",
    "- We are then looping through that list with `for`. Note that the statement \"for Num in RanList\" uses an already named list. Because you are looping through that list, you need to name each element so that it can be referred to within your loop. You can name it whatever you want, here I used \"Num\". \n",
    "- We then put a conditional statement to print something only if that condition is met.\n",
    "- `%` is the modulo operator. It returns the *remainder* of division. So 10%10 = 0, 20%10 = 0, etc., but 5%10=5.\n",
    "\n",
    "### While looping through data structures, we will often want to use an incrementer or counter, to keep track of how far we have gone, how far we should go, or how many times we have encountered a particular object. The `+=` tool from last week can be very helpful for this.\n"
   ]
  },
  {
   "cell_type": "code",
   "execution_count": 18,
   "id": "26b492d9",
   "metadata": {},
   "outputs": [
    {
     "name": "stdout",
     "output_type": "stream",
     "text": [
      "There are 9 A bases\n",
      "There are 4 C bases\n",
      "There are 4 G bases\n",
      "There are 4 T bases\n"
     ]
    }
   ],
   "source": [
    "num_a = 0\n",
    "num_c = 0\n",
    "num_g = 0\n",
    "num_t = 0\n",
    "DNA_seq = \"ATCGGGAAACCTTAAGCTAAA\"\n",
    "for base in DNA_seq:\n",
    "    if (base==\"A\"):\n",
    "        num_a += 1\n",
    "    elif (base==\"C\"):\n",
    "        num_c += 1\n",
    "    elif (base==\"G\"):\n",
    "        num_g += 1\n",
    "    else:\n",
    "        num_t += 1\n",
    "\n",
    "print(\"There are %d A bases\" % (num_a))        \n",
    "print(\"There are %d C bases\" % (num_c))        \n",
    "print(\"There are %d G bases\" % (num_g))        \n",
    "print(\"There are %d T bases\" % (num_t))        "
   ]
  },
  {
   "cell_type": "markdown",
   "id": "ec60b80d",
   "metadata": {},
   "source": [
    "### Here is an example of how to simply increment a counter to keep track of how far you have gone through a list. If you start with zero, you will essentially be tracking correct list indices (because the first list element is 0)\n"
   ]
  },
  {
   "cell_type": "code",
   "execution_count": 19,
   "id": "d7203f09",
   "metadata": {},
   "outputs": [
    {
     "name": "stdout",
     "output_type": "stream",
     "text": [
      "List index is : 0\n",
      "List index is : 1\n",
      "List index is : 2\n",
      "List index is : 3\n",
      "List index is : 4\n",
      "List index is : 5\n",
      "List index is : 6\n",
      "List index is : 7\n",
      "List index is : 8\n",
      "List index is : 9\n"
     ]
    }
   ],
   "source": [
    "List=['1','2','3','4','5','6','7','8','9','10']\n",
    "CTR = 0\n",
    "for Num in List:\n",
    "    print(\"List index is :\", CTR)\n",
    "    CTR += 1    "
   ]
  },
  {
   "cell_type": "markdown",
   "id": "2cc4df37",
   "metadata": {},
   "source": [
    "# 4. Working with Files\n",
    "\n",
    "For almost every task you attempt with Python, you will need to 1) open and read data from existing text files; and 2) write the products of your code to new text files. Sometimes you will work with one file at a time, while other tasks will involve reading and writing to very large numbers of files. As hopefully you will see here, Python makes all of the above fairly straightforward. \n",
    "<p>&nbsp;</p>\n",
    "\n",
    "## I. Input\n",
    "\n",
    "Input involves several steps\n",
    "\n",
    "- assigning the name of the file to a variable (based on its location), and opening a connection to the file (creating a file object with `open()`)\n",
    "- reading the contents of the file (`.read`)\n",
    "<p>&nbsp;</p>\n",
    "\n",
    "### `open()`, along with the `r` (read) argument, can be used to open a connection (also could be called a file handle) to files stored on your computer. \n",
    "\n",
    "<p>&nbsp;</p>\n",
    "\n",
    "### This can be done by 'hardcoding' the name of a file or files into your code:\n",
    "\n",
    "If the file is in your working directory:"
   ]
  },
  {
   "cell_type": "code",
   "execution_count": null,
   "id": "679175c1",
   "metadata": {},
   "outputs": [],
   "source": [
    "IN_file=open('data.txt', 'r')"
   ]
  },
  {
   "cell_type": "markdown",
   "id": "4efaa61b",
   "metadata": {},
   "source": [
    "Of course, you can also use an absolute path:\n"
   ]
  },
  {
   "cell_type": "code",
   "execution_count": null,
   "id": "416597bc",
   "metadata": {},
   "outputs": [],
   "source": [
    "IN_file=open('/working/parchman/data.txt', 'r')"
   ]
  },
  {
   "cell_type": "markdown",
   "id": "bc428627",
   "metadata": {},
   "source": [
    "## ** Perhaps more usefully, file names can be processed from command line arguments. This is often advantageous in that the same script can be used to process different files or different sets of files without. Let's walk through how to do this below, while also giving you a preview of using python libraries/modules. \n",
    "<p>&nbsp;</p>\n",
    "\n",
    "Command line arguments can be accessed from you code using `sys.argv`. Once you have imported the `sys` library, `sys.argv` will essentially be a list of command line arguments. `IMPORTANT NOTE`: the [1:] below skips the first argument, which is the script itself"
   ]
  },
  {
   "cell_type": "code",
   "execution_count": null,
   "id": "92da4937",
   "metadata": {},
   "outputs": [],
   "source": [
    "import sys\n",
    "for Arg in sys.argv[1:]:       \n",
    "    print(Arg)"
   ]
  },
  {
   "cell_type": "markdown",
   "id": "bb659cc7",
   "metadata": {},
   "source": [
    "If you had placed just the above in a script, executed that script as below:\n",
    "\n",
    "    $ python argtest.py Lebron AD Westbrook\n",
    "\n",
    "You should see Lebron, AD and Westbrook printed consecutively to the screen\n",
    "\n",
    "From here, you can see that using the `open()` function to make file objects from filenames listed in sys.argv is an efficient way to access files in your code. For most cases, this strategy will be more efficient and useful than hardcoding file names into your scripts.\n"
   ]
  },
  {
   "cell_type": "markdown",
   "id": "6dbab1bf",
   "metadata": {},
   "source": [
    "\n",
    "    import sys\n",
    "    IN = open(sys.argv[1], 'r') \n",
    "    \n",
    "If you provide a file name as an argument, `sys.argv[1]`, as above, the second element of that list will be the file name (remember that list indexing in Python begins with zero). So if you ran the code below, the file `data.txt` would be opened and assigned to `IN`.\n",
    "\n",
    "\tpython3 read_file.py data.txt\n",
    "\t\n",
    "\timport sys\n",
    "\tIN = open(sys.argv[1], 'r')\n",
    "\n",
    "<p>&nbsp;</p>\n",
    "\n",
    "### There are a number of ways you can read data from a file object.\n",
    "\n",
    "**What you will most often want to do is loop over the file object to read each line one at a time from the file. In other words, we will run all of our commands on the first row of the file, then we will run all of our commands on the second row, and so on. This is memory efficient, fast, and leads to simple code:**\n"
   ]
  },
  {
   "cell_type": "code",
   "execution_count": null,
   "id": "7297816c",
   "metadata": {},
   "outputs": [],
   "source": [
    "for Line in IN:\n",
    "    print (Line)"
   ]
  },
  {
   "cell_type": "markdown",
   "id": "9c16e006",
   "metadata": {},
   "source": [
    "**Once you start processing files one line at a time,  you will realize that line ending characters (`\\n`) often get in the way, and can be most effectively dealt with by removing them right off the bat. We can use the `.strip` function to do this as below.**\n"
   ]
  },
  {
   "cell_type": "code",
   "execution_count": null,
   "id": "86b162c1",
   "metadata": {},
   "outputs": [],
   "source": [
    "IN_data = IN.strip(\"\\n\")"
   ]
  },
  {
   "cell_type": "markdown",
   "id": "11adb3cd",
   "metadata": {},
   "source": [
    "### Another way of doing this, following Haddock and Dunn:\n"
   ]
  },
  {
   "cell_type": "code",
   "execution_count": null,
   "id": "9fd226b4",
   "metadata": {},
   "outputs": [],
   "source": [
    "IN_Name = \"data.txt\"\n",
    "IN = open(IN_Name, 'r')\n",
    "LineNumber = 0  ## setting to 0 to count lines while looping through the file. \n",
    "\n",
    "for Line in IN:\n",
    "    Line = Line.strip('\\n') #### critical, removing line ending\n",
    "    print(LineNumber, \":\", Line)\n",
    "\n",
    "    LineNumber += 1 ## incrementing LineNumber to count runs through loop\n",
    "\n",
    "IN.close() #closing IN, see below."
   ]
  },
  {
   "cell_type": "markdown",
   "id": "05ce7533",
   "metadata": {},
   "source": [
    "## II. Output\n",
    "\n",
    "Opening a file for output, and writing to that file (as opposed to printing the output to the terminal using `print`), works similarly to the examples above and also uses `open()`. With this function, we use either the \"r\", \"w\", and \"a\" arguments for the `open()` function to specify read, write, or append actions. For writing output from your code, we will use \"w\" or \"a\".\n"
   ]
  },
  {
   "cell_type": "code",
   "execution_count": null,
   "id": "e32e767c",
   "metadata": {},
   "outputs": [],
   "source": [
    "OUT = open(\"outfile.txt\", \"w\")\n",
    "OUT.write(\"Here is the data my python code processed \\n\")"
   ]
  },
  {
   "cell_type": "markdown",
   "id": "757eb7d4",
   "metadata": {},
   "source": [
    "The `.write` function above works similarly to `print`. Hence, you can write strings of text, variables, and even  variables processed by functions. A few examples below. Two important points about `.write` in how it differs from `print`. `.write()` is picky about what it will write out, preferring strings, and requiring some specific notation (examples below). Also, while `print` automatically appends line endings to statements, `.write` does not. Thus, you will need to add line endings.\n"
   ]
  },
  {
   "cell_type": "code",
   "execution_count": null,
   "id": "d0c6f340",
   "metadata": {},
   "outputs": [],
   "source": [
    "OUT.write(\"Here is the data my python code processed \\n\") # string of text, note line ending added\n",
    "\n",
    "OUT.write(\"Data: %d %f\" % (VarA, VarB)) # string and variables\n",
    "OUT2.write(\"Data %s \\n\" % (Line))\n",
    "OUT3.write(\"%d\\n\" % (VarName))"
   ]
  },
  {
   "cell_type": "markdown",
   "id": "6dafa5c9",
   "metadata": {},
   "source": [
    "Strings can be written using just a variable name, but Python doesnt like lists"
   ]
  },
  {
   "cell_type": "code",
   "execution_count": null,
   "id": "be7def2d",
   "metadata": {},
   "outputs": [],
   "source": [
    "OUT4.write(Name + \"\\n\")"
   ]
  },
  {
   "cell_type": "markdown",
   "id": "55e5f930",
   "metadata": {},
   "source": [
    "Finally, note that you can control output with `print` as well by using unix redirect (`>`), if you only need to send output to one file.\n",
    "\n",
    "    $ python myscript.py > output.txt\n",
    "\n",
    "## III. Closing file connections \n",
    "\n",
    "It may take some experience before you realize that closing file connections when you are done with them is good form. While learning and writing straightforward scripts, you may not encounter problems when you fail to close file handles, but that will change as you ramp up what you are doing. Nonetheless, get in the habit of doing this now, and try not to forget. It is simple using the `.close()` function. While you are learning python, you will commonly want to these commands towards the end of your scripts.\n"
   ]
  },
  {
   "cell_type": "code",
   "execution_count": null,
   "id": "cdc9290e",
   "metadata": {},
   "outputs": [],
   "source": []
  }
 ],
 "metadata": {
  "kernelspec": {
   "display_name": "Python 3 (ipykernel)",
   "language": "python",
   "name": "python3"
  },
  "language_info": {
   "codemirror_mode": {
    "name": "ipython",
    "version": 3
   },
   "file_extension": ".py",
   "mimetype": "text/x-python",
   "name": "python",
   "nbconvert_exporter": "python",
   "pygments_lexer": "ipython3",
   "version": "3.9.5"
  }
 },
 "nbformat": 4,
 "nbformat_minor": 5
}
