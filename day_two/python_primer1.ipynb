{
 "cells": [
  {
   "cell_type": "markdown",
   "id": "97e3a860",
   "metadata": {},
   "source": [
    "# GAIN summer 2023, Python primer I\n",
    "\n",
    "## Topics to cover\n",
    "\n",
    "- Getting started\n",
    "- First python program\n",
    "- Jupyter notebooks\n",
    "- Variables: strings and pythons\n",
    "- The interactive prompt\n",
    "\n",
    "# Why Python ?\n",
    "\n",
    "The idea of this course is to introduce scientists without any, or much, prior programming experience to a language that can be useful for their needs. The choice of the first programming language to learn may not be as important as you think; once you have learned one, learning additional languages will be much much easier, and you are nearly guaranteed to utilize additional languages at some point in your career. There are a number of reasons that Python has become the ideal language to learn first for data science:\n",
    "\n",
    "- It is one of the most common languages used in biology and other fields of science. Thus, you will be able to find a lot of documentation, guidance, examples, and opinion on the web.\n",
    "- It has excellent capabilities for manipulating text, suiting it well to bioinformatics and data science.\n",
    "- It uses consistent syntax, which makes learning specific code relatively easy.\n",
    "- It has many built in libraries to facilitate common tasks.\n",
    "- Python is very widely used, across science and inustry. \n",
    "\n",
    "<p>&nbsp;</p>\n",
    "\n",
    "# Getting started with Python. \n",
    "\n",
    "## Topics to cover\n",
    "- installing/updating python\n",
    "- writing your first python script(s), `print` statements\n",
    "- working with strings and integers\n",
    "- controlling float precision\n",
    "- using the interactive prompt to test code in the terminal\n",
    "- `help()` and `dir()`\n",
    "\n",
    "<p>&nbsp;</p>\n",
    "\n",
    "# 1. Installing/updating to python 3 current version\n",
    "We are going to start slow and basic with Python, attempting to insure that everyone stays on board. First we are going to make sure everyone has the most recent version installed on their machine. While doing this, we are going to take a slight detour to learn how incredibly easy it can be to download and install packages for Unix commands or programs that are not installed in the base system. For this, we will demonstrate the use of `brew`, which is command line utility for locating, downloading, and installing Unix packages on Mac computers.\n",
    "\n",
    "First check to see if you have python3 installed.  Open the shell and type\n",
    "\n",
    "    $ python --version\n",
    "\n",
    "If you get anyting that looks like version 2 not 3 or if you get an error that you dont have python. Then you will need to install version 3.\n",
    "\n",
    "\n",
    "## Installing or updating Python on Mac Unix using homebrew\n",
    "\n",
    "If you have already installed Homebrew - you dont need to do this. Check if you have it:\n",
    "\n",
    "    $ which brew\n",
    "  \n",
    "If you dont have `brew`, then:\n",
    "\n",
    "    $ /usr/bin/ruby -e \"$(curl -fsSL https://raw.githubusercontent.com/Homebrew/install/master/install)\"\n",
    "\n",
    "Then install python3 \n",
    "\n",
    "    $ brew install python3\n",
    "\n",
    "**For more depth on homebrew and using the `brew` command to install and update packages in your Unix system, see section 7 of  [unixII_primer.md](https://github.com/tparchman/GAIN_summer2021/tree/main/day_one/unixII_primer.md).\n",
    "\n",
    "\n",
    "### Python downloads, also useful potentially \n",
    "Go to python.org and download the latest release\n",
    "\n",
    "    https://www.python.org/downloads/mac-osx\n",
    "\n",
    "\n",
    "## Installing or updating Python on Ubuntu\n",
    "It is probably already installed but if not try with the package manager `apt-get`\n",
    "\n",
    "    $ sudo apt-get install python idle\n",
    "<p>&nbsp;</p>\n",
    "\t\n",
    "# 2. Writing your first python program\n",
    "\n",
    "As with shell scripts, the first line of python scripts should be the shebang followed by the location of python:\n",
    "\n",
    "    #!/usr/local/bin/python3\n",
    "\n",
    "If you are unsure where you installed python3, you can easily figure out where it is:\n",
    "\n",
    "    $ which python3\n",
    "\n",
    "\n",
    "As covered in Haddock and Dunn, pg 127, you can also use the below as your first line. This allows you to send script to `env` first, which should then locate python3, wherever it resides.\n",
    "\n",
    "    #!/usr/bin/env python3\n",
    "\n",
    "Either of the above will do, and are important **IF** or when you wish to convert your scripts to executable. If you want to do this, change the file mode: \n",
    "\n",
    "    $ chmod u+x first_python.py\n",
    "\n",
    "And run as follows:\n",
    "\n",
    "    $ ./first_python.py\n",
    "\n",
    "## Your first simple program, using a `print` statement.\n",
    "\n",
    "Sending information from your python scripts to stdout is accomplished with the `print` statement. Our first script will simply illustrate how we print specified text, and will serve to convince you that writing python code might not be that hard. Use `touch` to make a blank text file, but give it a `.py` extension as is customary for python scripts. This script needs only two simple parts. First, your customary first line that should go in all of your scripts, which should be:\n",
    "\n",
    "    #!/usr/bin/env python3\n",
    "Or the path to the specific location where python lives:\n",
    "\n",
    "    #!/usr/local/bin/python3\n",
    "\n",
    "To illustrate the use of `comment` text, marked with `#`, lets add a comment that is for you to read, not python. \n",
    "\n",
    "    #this is a comment: testing my first program with a simple print statement\n",
    "\n",
    "Note the line above will not be part of the interpreted code. Instead, you can make use of `#` to leave annotations for yourself or others in your code to explain what you are doing.\n",
    "\n",
    "Now lets add a print statement:\n",
    "\n",
    "    print(\"Im ready to learn python, and this is my first step\")\n",
    "\n",
    "You can now run your program in two ways. Simply (which we strongly recommend for this class):\n",
    "\n",
    "    $ python3 first_script.py \n",
    "\n",
    "Or, change to executable, then run:\n",
    "\n",
    "    $ chmod u+x first_script.py\n",
    "    $ ./first_script.py\n",
    "\n",
    "If all is in order, \"Im ready to learn python, and this is my first step\" should print to the screen, and you are ready for more.\n",
    "<p>&nbsp;</p>\n",
    "\n",
    "# `#`: comment character, annotating your code.\n",
    "Anytime you use `#`, the rest of the line will be 'commented out'. This means python won't interpret what you write, and that you can write notes or annotations on what your code is doing, to help yourself and others. Make heavy use of this, and when you go back to old or strange code, you will know why you did what you did. When others make good use of this, you can learn more about why/how they did what they did. Use `#` frequently, especially in the early phases of learning python.\n",
    "\n",
    "In example code below and in other primers, I have put comments to describe some code using `#`.\n",
    "\n",
    "    print (\"This is python code\")  # this is a comment to describe the left\n",
    "\n",
    "<p>&nbsp;</p>\n",
    "\n",
    "# 3. Writing scripts, using interactive mode, and/or using Jupyter notebooks.\n",
    "\n",
    "You can write, execute and store python code in a number of different types of files. Lets breakdown down the options here before you start to learn more. \n",
    "\n",
    "### When to use the terminal interactive mode or the Ipy editor from the Anaconda navigator GUI suite:\n",
    "\n",
    "Both of these options are excellent for quickly testing single lines of code, or small blocks of code. Especially when input/output operations are not required. Either of these options can be very useful to have active while you are working on more complex bits of code because they can be used to quickly test or experiment with small bits of code. They each have extremely useful tab completion features, and the Ipy console has quick summary windows that appear after functions are specified that give a synopsis of function arguments, options, etc.).\n",
    "\n",
    "### When to write and store code in `.py` text files (using text editors like BBedit, sublime, VScode) or in `.ipynb` Jupyter notebooks:\n",
    "\n",
    "**text** For the most part you will want to write and store your code in raw text files, as python is an interpretted language. When writing code in text files, we use the `.py` file extension as a convention for making it python programs identifiable by the file extension. Note that these are still just raw text files. Comment lines (initiated with `#` can be used interchangeably with python code in order to keep notes, instructions, or descriptions of what code is doing (or supposed to do). **Most people write and store their python code in text files**\n",
    "\n",
    "**Jupyter notebooks** Jupyter notebooks store python code in text, with the option of writing enhanced text in markdown. This environment is ideal for learning and perhaps teaching, as it allows blocks of code to be run in a piecemeal fashion, and text written in markdown can be formatted for much better readability and organization in comparison to simple text comment lines used in a standard `.py` text file. \n",
    "\n",
    "I have written this primer in a Jupyter notebook to illustrate its use. Notice that you will be able to edit and run the code blocks in this notebook if you open it as a jupyter-notebook. It is easy to get started, and once you have gotten started, this is probably the quickest and easiest way to get introduced to writing code inm python.\n",
    "\n",
    "\n",
    "### Getting started with Jupyter notebooks\n",
    "\n",
    "For help getting started in jupyter notebooks, follow [jupyter quick start guide in markdown](https://github.com/tparchman/GAIN_2023/blob/main/jupyter_start/jupyter_getting_started.md) on the GAIN github page.\n",
    "\n",
    "To open an already existing `Jupyter Notebook` from the command line, follow the example below. Note that the file extension for `Jupyter Notebook` files is `.ipynb`.\n",
    "\n",
    "    $ jupyter-notebook logger_jupyter.ipynb\n",
    "\n",
    "Once you do that, the specified file with open in `Jupyter`\n",
    "\n",
    "\n",
    "Alternatively, you can create and work with jupyter notebooks using the Anaconda Navigator suite of GUI applications. \n",
    "\n",
    "[Download and install Anaconda Navigator here](https://docs.anaconda.com/free/navigator/index.html)\n",
    "\n",
    "You can start Jupyter from the `Jupyter Notebook` icon in the application menu. \n",
    "\n",
    "Once you do that, a `Jupyter` server will launch on your screen that will display Jupyter in an html viewer within your default web browser. Note that this is not a connection to an internet site, but an interactive html based application. From here you can navigate your directory tree to open an already existing `Jupyter Notebook` or can click on `new` to create a new file. The menu bar at the top should be largely self explanatory and self explorable.\n",
    "\n",
    "Once you open a new `Jupyter Notebook` it will display a menu at the top and a blank box with a cursor. There is a drop down menu on the right where you can switch between code and markdown to control how you what you type in each box is interpretted, shown in the image below. \n",
    "\n",
    "# 4. Working with scalars (strings, integers, floats, etc.)\n",
    "Chapter 8 of Haddock and Dunn does a nice job of walking you through a script that codes and performs various actions on strings and integers (both types of scalar variables). Lets use that example to cover a few aspects of working with strings and integers in python, including:\n",
    "\n",
    "- some useful built-in string functions\n",
    "- basic mathematical operations\n",
    "- using the interactive prompt to test simple code, get help, etc. (`help()`, `dir()`)\n",
    "- controlling string formatting with `%`\n",
    "<p>&nbsp;</p>\n",
    "\n",
    "## 3A. Strings \n",
    "Strings can be specified and assigned easily within scripts as below. Note that `\"` or `'` can be used to enclose strings, and strings not enclosed will return undefined."
   ]
  },
  {
   "cell_type": "code",
   "execution_count": null,
   "id": "d6fb6673",
   "metadata": {},
   "outputs": [],
   "source": [
    "Team = \"lakers\"\n",
    "Seq_one = \"actgaaa\"\n",
    "Seq_two = \"ATCGAA\"\n",
    "Seq3 = 'atcGGGC'"
   ]
  },
  {
   "cell_type": "markdown",
   "id": "7bad51ee",
   "metadata": {},
   "source": []
  },
  {
   "cell_type": "markdown",
   "id": "d36ac5ab",
   "metadata": {},
   "source": [
    "Strings can be concatenated with `+`:"
   ]
  },
  {
   "cell_type": "code",
   "execution_count": null,
   "id": "4178e9bd",
   "metadata": {},
   "outputs": [],
   "source": [
    "Seq_one_two = Seq_one + Seq_two\n",
    "print(\"concatenation example: \", Seq_one_two)"
   ]
  },
  {
   "cell_type": "markdown",
   "id": "dfa91a13",
   "metadata": {},
   "source": [
    "Strings can be repeated with `*`:"
   ]
  },
  {
   "cell_type": "code",
   "execution_count": null,
   "id": "a7eab41b",
   "metadata": {},
   "outputs": [],
   "source": [
    "Seq_one_times3 = Seq_one * 3\n",
    "print(\"repeat by multiplier example: \", Seq_one_times3)"
   ]
  },
  {
   "cell_type": "markdown",
   "id": "89d907c6",
   "metadata": {},
   "source": [
    "\n",
    "### Python has a diverse array of string methods (these are built in functions), that allow efficient work with strings. A few examples below will illustrate the syntax for using these methods.\n",
    "<p>&nbsp;</p>\n",
    "\n",
    "`str.upper()` will convert string to uppercase:"
   ]
  },
  {
   "cell_type": "code",
   "execution_count": null,
   "id": "871eba2c",
   "metadata": {},
   "outputs": [],
   "source": [
    "Seq_one_big = Seq_one.upper()"
   ]
  },
  {
   "cell_type": "markdown",
   "id": "e4034fd5",
   "metadata": {},
   "source": [
    "`str.lower()` will convert string to lowercase:\n"
   ]
  },
  {
   "cell_type": "code",
   "execution_count": null,
   "id": "b6358241",
   "metadata": {},
   "outputs": [],
   "source": [
    "Seq_one_lower = Seq_one_big.lower()\n"
   ]
  },
  {
   "cell_type": "markdown",
   "id": "325d196e",
   "metadata": {},
   "source": [
    "`str.replace()` will replace a specified character with a different specified character. The code below will replace \"a\" with \"g\":"
   ]
  },
  {
   "cell_type": "code",
   "execution_count": null,
   "id": "bc8f9c72",
   "metadata": {},
   "outputs": [],
   "source": [
    "NewSeq_one = Seq_one.replace(\"a\",\"g\")\n",
    "print (\"Use of str.replace: \", NewSeq_one)"
   ]
  },
  {
   "cell_type": "markdown",
   "id": "b7935e4c",
   "metadata": {},
   "source": [
    "`str.count()` will return a count of occurences for a specific character:"
   ]
  },
  {
   "cell_type": "code",
   "execution_count": null,
   "id": "eb251dcd",
   "metadata": {},
   "outputs": [],
   "source": [
    "Counta_Seq_one = Seq_one.count(\"a\")\n",
    "print (\"Use of str.count: \", Counta_Seq_one)"
   ]
  },
  {
   "cell_type": "markdown",
   "id": "579b2711",
   "metadata": {},
   "source": [
    "`str.isalnum()` will return *True* if all characters are alphanumeric, *False* if not."
   ]
  },
  {
   "cell_type": "code",
   "execution_count": null,
   "id": "c5dd6d66",
   "metadata": {},
   "outputs": [],
   "source": [
    "Seq_one_alphanum_test = Seq_one.isalnum()\n",
    "print (\"Use of str.isalnum: \", Seq_one_alphanum_test)"
   ]
  },
  {
   "cell_type": "markdown",
   "id": "99e33509",
   "metadata": {},
   "source": [
    "## 3B. Basic mathematical operations\n",
    "Basic mathematical operations work mostly as expected, and can be usefully tested using interactive prompt from the terminal (see below).  \n",
    "\n",
    "\n",
    "| Arithmetic | Operators |\n",
    "| ----------- | --------- |\n",
    "| +  |  Addition |\n",
    "| - |   Subtraction |\n",
    "| * |   Multiplication |\n",
    "| / |   Division |\n",
    "| // |  Floor Division |\n",
    "| % |   Modulo |\n",
    "| ** |   Power |\n",
    "\n",
    "\n",
    "<p>&nbsp;</p>\n",
    "\n",
    "Comparison operators, such as those listed below, can return boolean values in some statements (True or False; 1 or 0). You will find yourself making regular use of these in conditional statements, such as `if`, `if else`, etc.\n",
    "\n",
    "| Comparison | Operators |\n",
    "|---------- | ---------- |\n",
    "|==  | Equal To |\n",
    "|>   | Greater Than |\n",
    "|>=  | Greater Than or Equal To |\n",
    "|<   | Less Than |\n",
    "|<=  | Less Than or Equal To |\n",
    "|!=  | Not Equal |\n",
    "\n",
    "<p>&nbsp;</p>\n",
    "\n",
    "Most basic mathematical operations work in an unsurprsing manner."
   ]
  },
  {
   "cell_type": "code",
   "execution_count": null,
   "id": "a95ef7dd",
   "metadata": {},
   "outputs": [],
   "source": [
    "Num1 = 5\n",
    "Num2 = 7\n",
    "Sum = Num1 + Num2\n",
    "Prod = Num1 * Num2\n",
    "Dif = Num1 - Num2\n",
    "Div = Num1 / Num2\n",
    "Mod = Num2 % Num1\n",
    "print (Sum, Prod, Dif, Div, Mod)"
   ]
  },
  {
   "cell_type": "markdown",
   "id": "d3493388",
   "metadata": {},
   "source": [
    "If you use the code above in a script, or more efficiently, test it out with the interactive prompt (see below), the print statement should illustrate the expected behavior of the math statements above. **Note that \"Div\" (5/7) returns a float with many digits past the decimal (0.7142857142857143). This is an overkill level of precision for some uses, and you will often want to control float precision for tidiness.** We will cover that type of control below.\n",
    "\n",
    "<p>&nbsp;</p>\n",
    "\n",
    "# 4. Strings, Scalars, and Integers. How to specify, how to know what a scalar variable is.\n",
    "\n",
    "## 4A. Checking variables\n",
    "If you arent sure whether a variable is an integer, string, or float, you can easily check using the `type()` function.\n"
   ]
  },
  {
   "cell_type": "code",
   "execution_count": 2,
   "id": "95f8320e",
   "metadata": {},
   "outputs": [
    {
     "data": {
      "text/plain": [
       "float"
      ]
     },
     "execution_count": 2,
     "metadata": {},
     "output_type": "execute_result"
    }
   ],
   "source": [
    "Var = 1.2\n",
    "type(Var)    \n",
    "\n",
    "\n"
   ]
  },
  {
   "cell_type": "code",
   "execution_count": 3,
   "id": "e924215d",
   "metadata": {},
   "outputs": [
    {
     "data": {
      "text/plain": [
       "int"
      ]
     },
     "execution_count": 3,
     "metadata": {},
     "output_type": "execute_result"
    }
   ],
   "source": [
    "\n",
    "Var = 12\n",
    "type(Var)     "
   ]
  },
  {
   "cell_type": "code",
   "execution_count": 4,
   "id": "52422885",
   "metadata": {},
   "outputs": [
    {
     "data": {
      "text/plain": [
       "str"
      ]
     },
     "execution_count": 4,
     "metadata": {},
     "output_type": "execute_result"
    }
   ],
   "source": [
    "Seq = 'atcgaaa'\n",
    "type(Seq)      "
   ]
  },
  {
   "cell_type": "markdown",
   "id": "e43df523",
   "metadata": {},
   "source": [
    "## 4B. `%` operator: controlling format of scalars in print statements \n",
    "\n",
    "### In print statements, the first `%` is used as a placeholder that denotes what type of variable is to be specified:  **%d for integer, %f for float, and %s for string**. After the quoted statement, the second `%` is used before the variable name is provided in (). %f is also used to specify the number of digits after a decimal (see below).\n",
    "\n",
    "Have a look at the examples in Haddock and Dunn. Here are a few more. The first uses a string assigned to the variable name within the print statement."
   ]
  },
  {
   "cell_type": "code",
   "execution_count": 5,
   "id": "4a020c97",
   "metadata": {},
   "outputs": [
    {
     "name": "stdout",
     "output_type": "stream",
     "text": [
      "38 points, 10 assists, 16 rebounds for Lebron\n"
     ]
    }
   ],
   "source": [
    "Name='Lebron'\n",
    "print(\"38 points, 10 assists, 16 rebounds for %s\" %(Name))"
   ]
  },
  {
   "cell_type": "markdown",
   "id": "23bb2791",
   "metadata": {},
   "source": [
    "The example below stores three integers. They are each separately printed within quotes in the print statement, using `%d` notation for each. Note, that the order of those variables is then"
   ]
  },
  {
   "cell_type": "code",
   "execution_count": 6,
   "id": "01fb8236",
   "metadata": {},
   "outputs": [
    {
     "name": "stdout",
     "output_type": "stream",
     "text": [
      "38 points, 10 assists, 16 rebounds for Lebron\n"
     ]
    }
   ],
   "source": [
    "P=38\n",
    "A=10\n",
    "R=16\n",
    "print(\"%d points, %d assists, %d rebounds for Lebron\" %(P, A, R))"
   ]
  },
  {
   "cell_type": "markdown",
   "id": "64a85944",
   "metadata": {},
   "source": [
    "In python, floats can be represented with full precision, or controlled to a set number of positions. The latter will often be desirable to keep things tidy. The statements below will print 0.6666666666666666."
   ]
  },
  {
   "cell_type": "code",
   "execution_count": 7,
   "id": "f94c4980",
   "metadata": {},
   "outputs": [
    {
     "name": "stdout",
     "output_type": "stream",
     "text": [
      "2/3 should equal roughly 0.667\n"
     ]
    }
   ],
   "source": [
    "Prod = 2/3\n",
    "print (\"2/3 should equal roughly %.3f\" % (Prod))"
   ]
  },
  {
   "cell_type": "markdown",
   "id": "7a9c5e6a",
   "metadata": {},
   "source": [
    "# 5. `input()` allows user input\n",
    "Use of this function allows user input from the command line while a program is being exectuted. For example, the with the code below in a script, 'enter value between 1 and 10:' will be printed to the terminal, and a value entered can then be assigned to that variable within the program."
   ]
  },
  {
   "cell_type": "code",
   "execution_count": null,
   "id": "1b3c3ef4",
   "metadata": {},
   "outputs": [],
   "source": [
    "X = input('enter a value between 1 and 10')\n",
    "print(\"The entered value was \" + X)"
   ]
  },
  {
   "cell_type": "markdown",
   "id": "aa9d557e",
   "metadata": {},
   "source": [
    "# 6. A useful feature of python is the interactive prompt, which you can invoke by simply typing python (or python3, depending on your set up), as below. The interactive prompt can be used to test statements or blocks of code outside of your scripts, and/or to get help (`help()`, `dir()`)\n",
    "\n",
    "        [tparchman@Thomass-MacBook-Pro python1]$ python\n",
    "        Python 3.8.5 (default, Aug 16 2020, 12:28:59) \n",
    "        [Clang 9.0.0 (clang-900.0.39.2)] on darwin\n",
    "        Type \"help\", \"copyright\", \"credits\" or \"license\" for more information.\n",
    "        >>> "
   ]
  },
  {
   "cell_type": "markdown",
   "id": "d2ffa1ad",
   "metadata": {},
   "source": [
    " You can usefully use the interactive prompt to test statements or operations while you are writing scripts. Some find it useful to keep the interactive prompt open next to their text editors while writing python code (Haddock and Dunn page ). Follow the example below, which demonstrates the use of +=.  \n",
    "\n",
    "    >>> a = 7\n",
    "    >>> a += 7\n",
    "    >>> a\n",
    "    14  \n",
    "\n",
    "Here is another example, where I am demonstrating string assignment, and the use of `str.replace`:\n",
    "\n",
    "    >>> Seq='ATCGGGGGGG'\n",
    "    >>> Rep_Seq = Seq.replace('G','T')\n",
    "    >>> print(Rep_Seq)\n",
    "    ATCTTTTTTT\n",
    "\n",
    "Finally, have a look at what happens when the code you are trying ISN'T right. Below, a string is not formatted correctly in the variable assingment statement.\n",
    "\n",
    "    >>> Seq= ATCGCCCCC\n",
    "    Traceback (most recent call last):\n",
    "    File \"<stdin>\", line 1, in <module>\n",
    "    NameError: name 'ATCGCCCCC' is not defined\n",
    "\n",
    "In another example, I forgot to place parentheses around the variable which I am sending to the `print` function. Note here that the `^` is helpfully placed as a suggestion of where the error is coming from, and the correct syntax is suggested in the `SyntaxError` statement.\n",
    "\n",
    "    >>> print Rep_Seq\n",
    "    File \"<stdin>\", line 1\n",
    "    print Rep_Seq\n",
    "          ^\n",
    "    SyntaxError: Missing parentheses in call to 'print'. Did you mean print(Rep_Seq)?\n",
    "\n",
    "Note, for the examples shown above in sections 3A and 3B could be tested using the interactive prompt.\n",
    "<p>&nbsp;</p>\n",
    "\n",
    "### 5B. The interactive prompt is also useful for using `help()` and `dir()`. Try these with a few functions, you will quickly see the usefulness.\n",
    "<p>&nbsp;</p>\n",
    "\n",
    "### `help()` will print manual page descriptions of the function placed in parentheses. "
   ]
  },
  {
   "cell_type": "code",
   "execution_count": null,
   "id": "cdb6d19d",
   "metadata": {},
   "outputs": [],
   "source": [
    "help(print)"
   ]
  },
  {
   "cell_type": "markdown",
   "id": "6ae1e364",
   "metadata": {},
   "source": [
    "Note, for the examples shown above in sections 3A and 3B could be tested using the interactive prompt.\n",
    "<p>&nbsp;</p>\n",
    "\n",
    "### 5B. The interactive prompt is also useful for using `help()` and `dir()`. Try these with a few functions, you will quickly see the usefulness.\n",
    "<p>&nbsp;</p>\n",
    "\n",
    "### `help()` will print manual page descriptions of the function placed in parentheses. \n",
    "\n",
    "    >>> help(print)\n",
    "\n",
    "    Help on built-in function print in module builtins:\n",
    "\n",
    "    print(...)\n",
    "    print(value, ..., sep=' ', end='\\n', file=sys.stdout, flush=False)\n",
    "    \n",
    "    Prints the values to a stream, or to sys.stdout by default.\n",
    "    Optional keyword arguments:\n",
    "    file:  a file-like object (stream); defaults to the current sys.stdout.\n",
    "    sep:   string inserted between values, default a space.\n",
    "    end:   string appended after the last value, default a newline.\n",
    "    flush: whether to forcibly flush the stream.\n",
    "\n",
    "<p>&nbsp;</p>\n",
    "\n",
    "### `dir()` returns all properties and methods associated with the specified variable. Below the function is being used with a string.\n",
    "    Name='Costanza'\n",
    "    dir(str)\n",
    "    ['__add__', '__class__', '__contains__', '__delattr__', '__dir__', '__doc__', '__eq__', '__format__', '__ge__', '__getattribute__', '__getitem__', '__getnewargs__', '__gt__', '__hash__', '__init__', '__init_subclass__', '__iter__', '__le__', '__len__', '__lt__', '__mod__', '__mul__', '__ne__', '__new__', '__reduce__', '__reduce_ex__', '__repr__', '__rmod__', '__rmul__', '__setattr__', '__sizeof__', '__str__', '__subclasshook__', 'capitalize', 'casefold', 'center', 'count', 'encode', 'endswith', 'expandtabs', 'find', 'format', 'format_map', 'index', 'isalnum', 'isalpha', 'isascii', 'isdecimal', 'isdigit', 'isidentifier', 'islower', 'isnumeric', 'isprintable', 'isspace', 'istitle', 'isupper', 'join', 'ljust', 'lower', 'lstrip', 'maketrans', 'partition', 'replace', 'rfind', 'rindex', 'rjust', 'rpartition', 'rsplit', 'rstrip', 'split', 'splitlines', 'startswith', 'strip', 'swapcase', 'title', 'translate', 'upper', 'zfill']\n",
    "\n",
    "\n",
    "<p>&nbsp;</p>\n",
    "<p>&nbsp;</p>\n",
    "\n",
    "\n",
    "# Python documentation and other useful resources. \n",
    "\n",
    "I strongly recommend you explore several of the below resources and tutorials.\n",
    "\n",
    "[Python documentation](https://www.python.org/doc/)\n",
    "\n",
    "[Python for Biologists](https://pythonforbiologists.com/introduction)\n",
    "\n",
    "[Learn Python Interactive - has built in interpretter](https://www.learnpython.org/)\n",
    "\n",
    "[Python guru - excellent, also has built in interpretter](https://thepythonguru.com/)\n",
    "\n",
    "<p>&nbsp;</p>\n",
    "\n",
    "### If you are using Haddock and Dunn text, be aware that it is based on python2, and there are some important differences between python2 and python3 (syntax changes that will require slight modification of book examples)\n",
    "\n",
    "1. print statements in python3 should use (). \n",
    "2. `raw_input()` has become just `input()`"
   ]
  },
  {
   "cell_type": "code",
   "execution_count": null,
   "id": "fd43a369",
   "metadata": {},
   "outputs": [],
   "source": []
  },
  {
   "cell_type": "code",
   "execution_count": null,
   "id": "3bd5c38e",
   "metadata": {},
   "outputs": [],
   "source": []
  },
  {
   "cell_type": "code",
   "execution_count": null,
   "id": "191fc3af",
   "metadata": {},
   "outputs": [],
   "source": []
  }
 ],
 "metadata": {
  "kernelspec": {
   "display_name": "Python 3",
   "language": "python",
   "name": "python3"
  },
  "language_info": {
   "codemirror_mode": {
    "name": "ipython",
    "version": 3
   },
   "file_extension": ".py",
   "mimetype": "text/x-python",
   "name": "python",
   "nbconvert_exporter": "python",
   "pygments_lexer": "ipython3",
   "version": "3.8.8"
  }
 },
 "nbformat": 4,
 "nbformat_minor": 5
}
